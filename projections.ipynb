{
 "cells": [
  {
   "cell_type": "code",
   "execution_count": 2,
   "metadata": {},
   "outputs": [],
   "source": [
    "import pandas as pd\n",
    "import numpy as np\n",
    "import re\n",
    "import seaborn as sns\n",
    "import matplotlib.pyplot as plt\n",
    "from statistical_functions import probability, conditional_probability, condition_indices"
   ]
  },
  {
   "cell_type": "code",
   "execution_count": 3,
   "metadata": {},
   "outputs": [
    {
     "data": {
      "text/plain": [
       "<module 'statistical_functions' from 'c:\\\\Users\\\\jonat\\\\Python\\\\player-projections-bayes\\\\statistical_functions.py'>"
      ]
     },
     "execution_count": 3,
     "metadata": {},
     "output_type": "execute_result"
    }
   ],
   "source": [
    "import statistical_functions as sf # Import the module initially\n",
    "# reload the module to get the updated version\n",
    "import importlib\n",
    "importlib.reload(sf)"
   ]
  },
  {
   "cell_type": "code",
   "execution_count": 4,
   "metadata": {},
   "outputs": [
    {
     "data": {
      "text/plain": [
       "<module 'formatting_functions' from 'c:\\\\Users\\\\jonat\\\\Python\\\\player-projections-bayes\\\\formatting_functions.py'>"
      ]
     },
     "execution_count": 4,
     "metadata": {},
     "output_type": "execute_result"
    }
   ],
   "source": [
    "import formatting_functions as ff # Import the module initially\n",
    "# reload the module to get the updated version\n",
    "import importlib\n",
    "importlib.reload(ff)"
   ]
  },
  {
   "cell_type": "code",
   "execution_count": 5,
   "metadata": {},
   "outputs": [
    {
     "name": "stderr",
     "output_type": "stream",
     "text": [
      "2024-09-26 13:24:59,814 - INFO - This is an info message\n",
      "2024-09-26 13:24:59,816 - WARNING - This is a warning message\n",
      "2024-09-26 13:24:59,816 - ERROR - This is an error message\n",
      "2024-09-26 13:24:59,816 - CRITICAL - This is a critical message\n"
     ]
    }
   ],
   "source": [
    "import logging\n",
    "\n",
    "# Reset logging by clearing any existing handlers\n",
    "for handler in logging.root.handlers[:]:\n",
    "    logging.root.removeHandler(handler)\n",
    "\n",
    "# Configure logging settings\n",
    "logging.basicConfig(\n",
    "    level=logging.INFO,  # Set the logging level to DEBUG to capture all messages\n",
    "    format='%(asctime)s - %(levelname)s - %(message)s',  # Customize log message format\n",
    "    handlers=[logging.StreamHandler()]  # Send log messages to the notebook output\n",
    ")\n",
    "\n",
    "# Test logging\n",
    "logging.debug(\"This is a debug message\")\n",
    "logging.info(\"This is an info message\")\n",
    "logging.warning(\"This is a warning message\")\n",
    "logging.error(\"This is an error message\")\n",
    "logging.critical(\"This is a critical message\")"
   ]
  },
  {
   "cell_type": "code",
   "execution_count": 6,
   "metadata": {},
   "outputs": [
    {
     "data": {
      "text/html": [
       "<div>\n",
       "<style scoped>\n",
       "    .dataframe tbody tr th:only-of-type {\n",
       "        vertical-align: middle;\n",
       "    }\n",
       "\n",
       "    .dataframe tbody tr th {\n",
       "        vertical-align: top;\n",
       "    }\n",
       "\n",
       "    .dataframe thead th {\n",
       "        text-align: right;\n",
       "    }\n",
       "</style>\n",
       "<table border=\"1\" class=\"dataframe\">\n",
       "  <thead>\n",
       "    <tr style=\"text-align: right;\">\n",
       "      <th></th>\n",
       "      <th>Rk</th>\n",
       "      <th>Year</th>\n",
       "      <th>Date</th>\n",
       "      <th>G#</th>\n",
       "      <th>Week</th>\n",
       "      <th>Age</th>\n",
       "      <th>Tm</th>\n",
       "      <th>Unnamed: 7</th>\n",
       "      <th>Opp</th>\n",
       "      <th>Result</th>\n",
       "      <th>...</th>\n",
       "      <th>FR</th>\n",
       "      <th>Yds.3</th>\n",
       "      <th>TD.4</th>\n",
       "      <th>Num</th>\n",
       "      <th>Pct</th>\n",
       "      <th>Num.1</th>\n",
       "      <th>Pct.1</th>\n",
       "      <th>Num.2</th>\n",
       "      <th>Pct.2</th>\n",
       "      <th>Status</th>\n",
       "    </tr>\n",
       "  </thead>\n",
       "  <tbody>\n",
       "    <tr>\n",
       "      <th>93</th>\n",
       "      <td>112</td>\n",
       "      <td>2023</td>\n",
       "      <td>2023-12-17</td>\n",
       "      <td>14</td>\n",
       "      <td>15</td>\n",
       "      <td>29.015</td>\n",
       "      <td>GNB</td>\n",
       "      <td>NaN</td>\n",
       "      <td>TAM</td>\n",
       "      <td>L 20-34</td>\n",
       "      <td>...</td>\n",
       "      <td>0</td>\n",
       "      <td>0</td>\n",
       "      <td>0</td>\n",
       "      <td>29</td>\n",
       "      <td>48%</td>\n",
       "      <td>0</td>\n",
       "      <td>0%</td>\n",
       "      <td>0</td>\n",
       "      <td>0%</td>\n",
       "      <td>NaN</td>\n",
       "    </tr>\n",
       "    <tr>\n",
       "      <th>94</th>\n",
       "      <td>113</td>\n",
       "      <td>2023</td>\n",
       "      <td>2023-12-24</td>\n",
       "      <td>15</td>\n",
       "      <td>16</td>\n",
       "      <td>29.022</td>\n",
       "      <td>GNB</td>\n",
       "      <td>@</td>\n",
       "      <td>CAR</td>\n",
       "      <td>W 33-30</td>\n",
       "      <td>...</td>\n",
       "      <td>0</td>\n",
       "      <td>0</td>\n",
       "      <td>0</td>\n",
       "      <td>34</td>\n",
       "      <td>52%</td>\n",
       "      <td>0</td>\n",
       "      <td>0%</td>\n",
       "      <td>0</td>\n",
       "      <td>0%</td>\n",
       "      <td>NaN</td>\n",
       "    </tr>\n",
       "    <tr>\n",
       "      <th>95</th>\n",
       "      <td>114</td>\n",
       "      <td>2023</td>\n",
       "      <td>2023-12-31</td>\n",
       "      <td>16</td>\n",
       "      <td>17</td>\n",
       "      <td>29.029</td>\n",
       "      <td>GNB</td>\n",
       "      <td>@</td>\n",
       "      <td>MIN</td>\n",
       "      <td>W 33-10</td>\n",
       "      <td>...</td>\n",
       "      <td>0</td>\n",
       "      <td>0</td>\n",
       "      <td>0</td>\n",
       "      <td>42</td>\n",
       "      <td>57%</td>\n",
       "      <td>0</td>\n",
       "      <td>0%</td>\n",
       "      <td>0</td>\n",
       "      <td>0%</td>\n",
       "      <td>NaN</td>\n",
       "    </tr>\n",
       "    <tr>\n",
       "      <th>96</th>\n",
       "      <td>115</td>\n",
       "      <td>2023</td>\n",
       "      <td>2024-01-07</td>\n",
       "      <td>17</td>\n",
       "      <td>18</td>\n",
       "      <td>29.036</td>\n",
       "      <td>GNB</td>\n",
       "      <td>NaN</td>\n",
       "      <td>CHI</td>\n",
       "      <td>W 17-9</td>\n",
       "      <td>...</td>\n",
       "      <td>0</td>\n",
       "      <td>0</td>\n",
       "      <td>0</td>\n",
       "      <td>49</td>\n",
       "      <td>82%</td>\n",
       "      <td>0</td>\n",
       "      <td>0%</td>\n",
       "      <td>0</td>\n",
       "      <td>0%</td>\n",
       "      <td>NaN</td>\n",
       "    </tr>\n",
       "    <tr>\n",
       "      <th>97</th>\n",
       "      <td>116</td>\n",
       "      <td>2024</td>\n",
       "      <td>2024-09-08</td>\n",
       "      <td>1</td>\n",
       "      <td>1</td>\n",
       "      <td>29.281</td>\n",
       "      <td>MIN</td>\n",
       "      <td>@</td>\n",
       "      <td>NYG</td>\n",
       "      <td>W 28-6</td>\n",
       "      <td>...</td>\n",
       "      <td>0</td>\n",
       "      <td>0</td>\n",
       "      <td>0</td>\n",
       "      <td>30</td>\n",
       "      <td>55%</td>\n",
       "      <td>0</td>\n",
       "      <td>0%</td>\n",
       "      <td>0</td>\n",
       "      <td>0%</td>\n",
       "      <td>NaN</td>\n",
       "    </tr>\n",
       "  </tbody>\n",
       "</table>\n",
       "<p>5 rows × 42 columns</p>\n",
       "</div>"
      ],
      "text/plain": [
       "     Rk  Year        Date  G#  Week     Age   Tm Unnamed: 7  Opp   Result  \\\n",
       "93  112  2023  2023-12-17  14    15  29.015  GNB        NaN  TAM  L 20-34   \n",
       "94  113  2023  2023-12-24  15    16  29.022  GNB          @  CAR  W 33-30   \n",
       "95  114  2023  2023-12-31  16    17  29.029  GNB          @  MIN  W 33-10   \n",
       "96  115  2023  2024-01-07  17    18  29.036  GNB        NaN  CHI   W 17-9   \n",
       "97  116  2024  2024-09-08   1     1  29.281  MIN          @  NYG   W 28-6   \n",
       "\n",
       "    ... FR  Yds.3  TD.4  Num  Pct  Num.1  Pct.1  Num.2  Pct.2  Status  \n",
       "93  ...  0      0     0   29  48%      0     0%      0     0%     NaN  \n",
       "94  ...  0      0     0   34  52%      0     0%      0     0%     NaN  \n",
       "95  ...  0      0     0   42  57%      0     0%      0     0%     NaN  \n",
       "96  ...  0      0     0   49  82%      0     0%      0     0%     NaN  \n",
       "97  ...  0      0     0   30  55%      0     0%      0     0%     NaN  \n",
       "\n",
       "[5 rows x 42 columns]"
      ]
     },
     "execution_count": 6,
     "metadata": {},
     "output_type": "execute_result"
    }
   ],
   "source": [
    "jones_career_unfilt = pd.read_csv(r\"C:\\Users\\jonat\\OneDrive\\projects\\prize_picks\\data\\aaron_jones_career_game_logs.txt\")\n",
    "\n",
    "jones_career_unfilt.tail()"
   ]
  },
  {
   "cell_type": "code",
   "execution_count": 7,
   "metadata": {},
   "outputs": [
    {
     "data": {
      "text/html": [
       "<div>\n",
       "<style scoped>\n",
       "    .dataframe tbody tr th:only-of-type {\n",
       "        vertical-align: middle;\n",
       "    }\n",
       "\n",
       "    .dataframe tbody tr th {\n",
       "        vertical-align: top;\n",
       "    }\n",
       "\n",
       "    .dataframe thead th {\n",
       "        text-align: right;\n",
       "    }\n",
       "</style>\n",
       "<table border=\"1\" class=\"dataframe\">\n",
       "  <thead>\n",
       "    <tr style=\"text-align: right;\">\n",
       "      <th></th>\n",
       "      <th>Time</th>\n",
       "      <th>Year</th>\n",
       "      <th>Date</th>\n",
       "      <th>Week</th>\n",
       "      <th>Tm</th>\n",
       "      <th>Opp</th>\n",
       "      <th>Result</th>\n",
       "      <th>Home</th>\n",
       "      <th>Started</th>\n",
       "      <th>Att</th>\n",
       "      <th>RushYds</th>\n",
       "      <th>RushTD</th>\n",
       "      <th>Rec</th>\n",
       "      <th>RecYds</th>\n",
       "      <th>RecTD</th>\n",
       "      <th>Outcome</th>\n",
       "      <th>Team Score</th>\n",
       "      <th>Opponent Score</th>\n",
       "      <th>Point Total</th>\n",
       "      <th>Margin</th>\n",
       "    </tr>\n",
       "  </thead>\n",
       "  <tbody>\n",
       "    <tr>\n",
       "      <th>0</th>\n",
       "      <td>2</td>\n",
       "      <td>2017</td>\n",
       "      <td>2017-09-17</td>\n",
       "      <td>2</td>\n",
       "      <td>GNB</td>\n",
       "      <td>ATL</td>\n",
       "      <td>L 23-34</td>\n",
       "      <td>False</td>\n",
       "      <td>False</td>\n",
       "      <td>0</td>\n",
       "      <td>0</td>\n",
       "      <td>0</td>\n",
       "      <td>0</td>\n",
       "      <td>0</td>\n",
       "      <td>0</td>\n",
       "      <td>L</td>\n",
       "      <td>23.0</td>\n",
       "      <td>34.0</td>\n",
       "      <td>57.0</td>\n",
       "      <td>-11.0</td>\n",
       "    </tr>\n",
       "    <tr>\n",
       "      <th>1</th>\n",
       "      <td>3</td>\n",
       "      <td>2017</td>\n",
       "      <td>2017-09-24</td>\n",
       "      <td>3</td>\n",
       "      <td>GNB</td>\n",
       "      <td>CIN</td>\n",
       "      <td>W 27-24</td>\n",
       "      <td>True</td>\n",
       "      <td>False</td>\n",
       "      <td>0</td>\n",
       "      <td>0</td>\n",
       "      <td>0</td>\n",
       "      <td>0</td>\n",
       "      <td>0</td>\n",
       "      <td>0</td>\n",
       "      <td>W</td>\n",
       "      <td>27.0</td>\n",
       "      <td>24.0</td>\n",
       "      <td>51.0</td>\n",
       "      <td>3.0</td>\n",
       "    </tr>\n",
       "    <tr>\n",
       "      <th>2</th>\n",
       "      <td>4</td>\n",
       "      <td>2017</td>\n",
       "      <td>2017-09-28</td>\n",
       "      <td>4</td>\n",
       "      <td>GNB</td>\n",
       "      <td>CHI</td>\n",
       "      <td>W 35-14</td>\n",
       "      <td>True</td>\n",
       "      <td>False</td>\n",
       "      <td>13</td>\n",
       "      <td>49</td>\n",
       "      <td>1</td>\n",
       "      <td>0</td>\n",
       "      <td>0</td>\n",
       "      <td>0</td>\n",
       "      <td>W</td>\n",
       "      <td>35.0</td>\n",
       "      <td>14.0</td>\n",
       "      <td>49.0</td>\n",
       "      <td>21.0</td>\n",
       "    </tr>\n",
       "    <tr>\n",
       "      <th>3</th>\n",
       "      <td>5</td>\n",
       "      <td>2017</td>\n",
       "      <td>2017-10-08</td>\n",
       "      <td>5</td>\n",
       "      <td>GNB</td>\n",
       "      <td>DAL</td>\n",
       "      <td>W 35-31</td>\n",
       "      <td>False</td>\n",
       "      <td>True</td>\n",
       "      <td>19</td>\n",
       "      <td>125</td>\n",
       "      <td>1</td>\n",
       "      <td>1</td>\n",
       "      <td>9</td>\n",
       "      <td>0</td>\n",
       "      <td>W</td>\n",
       "      <td>35.0</td>\n",
       "      <td>31.0</td>\n",
       "      <td>66.0</td>\n",
       "      <td>4.0</td>\n",
       "    </tr>\n",
       "    <tr>\n",
       "      <th>4</th>\n",
       "      <td>6</td>\n",
       "      <td>2017</td>\n",
       "      <td>2017-10-15</td>\n",
       "      <td>6</td>\n",
       "      <td>GNB</td>\n",
       "      <td>MIN</td>\n",
       "      <td>L 10-23</td>\n",
       "      <td>False</td>\n",
       "      <td>False</td>\n",
       "      <td>13</td>\n",
       "      <td>41</td>\n",
       "      <td>0</td>\n",
       "      <td>1</td>\n",
       "      <td>1</td>\n",
       "      <td>0</td>\n",
       "      <td>L</td>\n",
       "      <td>10.0</td>\n",
       "      <td>23.0</td>\n",
       "      <td>33.0</td>\n",
       "      <td>-13.0</td>\n",
       "    </tr>\n",
       "  </tbody>\n",
       "</table>\n",
       "</div>"
      ],
      "text/plain": [
       "   Time  Year        Date  Week   Tm  Opp   Result   Home Started  Att  \\\n",
       "0     2  2017  2017-09-17     2  GNB  ATL  L 23-34  False   False    0   \n",
       "1     3  2017  2017-09-24     3  GNB  CIN  W 27-24   True   False    0   \n",
       "2     4  2017  2017-09-28     4  GNB  CHI  W 35-14   True   False   13   \n",
       "3     5  2017  2017-10-08     5  GNB  DAL  W 35-31  False    True   19   \n",
       "4     6  2017  2017-10-15     6  GNB  MIN  L 10-23  False   False   13   \n",
       "\n",
       "   RushYds  RushTD  Rec  RecYds  RecTD Outcome  Team Score  Opponent Score  \\\n",
       "0        0       0    0       0      0       L        23.0            34.0   \n",
       "1        0       0    0       0      0       W        27.0            24.0   \n",
       "2       49       1    0       0      0       W        35.0            14.0   \n",
       "3      125       1    1       9      0       W        35.0            31.0   \n",
       "4       41       0    1       1      0       L        10.0            23.0   \n",
       "\n",
       "   Point Total  Margin  \n",
       "0         57.0   -11.0  \n",
       "1         51.0     3.0  \n",
       "2         49.0    21.0  \n",
       "3         66.0     4.0  \n",
       "4         33.0   -13.0  "
      ]
     },
     "execution_count": 7,
     "metadata": {},
     "output_type": "execute_result"
    }
   ],
   "source": [
    "jones_career = ff.format(jones_career_unfilt, 'RB')\n",
    "jones_career.head()"
   ]
  },
  {
   "cell_type": "code",
   "execution_count": 8,
   "metadata": {},
   "outputs": [
    {
     "name": "stderr",
     "output_type": "stream",
     "text": [
      "2024-09-26 13:25:00,344 - INFO - Initial Condition: {0, 4, 5, 6, 10, 11, 12, 14, 16, 17, 19, 20, 21, 23, 27, 32, 34, 44, 47, 54, 62, 69, 73, 74, 75, 76, 77, 79, 80, 85, 87, 88, 89, 91, 93}\n",
      "2024-09-26 13:25:00,349 - INFO - Condition 2: {69, 73, 74, 75, 44, 76, 77, 47, 79, 80, 85, 54, 87, 88, 89, 91, 93, 62}\n",
      "2024-09-26 13:25:00,349 - INFO - Condition 3: {69, 73, 74, 75, 44, 76, 77, 47, 79, 80, 85, 54, 87, 88, 89, 91, 93, 62}\n",
      "2024-09-26 13:25:00,349 - INFO - Condition and Event: {73, 76, 93, 62}\n"
     ]
    },
    {
     "data": {
      "text/plain": [
       "0.2222222222222222"
      ]
     },
     "execution_count": 8,
     "metadata": {},
     "output_type": "execute_result"
    }
   ],
   "source": [
    "# probability that Aaron Jones lost and still rushed for 56.5 yards since 2020\n",
    "\n",
    "conditional_probability(jones_career, [('RushYds', 'geq', 52.5), ('Outcome', 'eq', 'L'), ('Year', 'geq', 2020), ('Started', 'eq', True)])"
   ]
  },
  {
   "cell_type": "code",
   "execution_count": 9,
   "metadata": {},
   "outputs": [
    {
     "name": "stderr",
     "output_type": "stream",
     "text": [
      "2024-09-26 13:25:00,393 - INFO - Initial Condition: {40, 41, 42, 43, 44, 45, 46, 47, 48, 49, 50, 51, 52, 53, 54, 55, 56, 57, 58, 59, 60, 61, 62, 63, 64, 65, 66, 67, 68, 69, 70, 71, 72, 73, 74, 75, 76, 77, 78, 79, 80, 81, 82, 83, 84, 85, 86, 87, 88, 89, 90, 91, 92, 93, 94, 95, 96, 97}\n",
      "2024-09-26 13:25:00,396 - INFO - Condition 2: {40, 41, 42, 43, 44, 45, 46, 47, 48, 49, 50, 51, 52, 53, 54, 55, 56, 57, 58, 59, 60, 61, 62, 63, 64, 65, 66, 67, 68, 69, 70, 71, 72, 73, 74, 75, 76, 77, 78, 79, 80, 81, 82, 83, 84, 85, 86, 87, 88, 89, 90, 91, 92, 93, 94, 95, 96, 97}\n",
      "2024-09-26 13:25:00,397 - INFO - Condition and Event: {40, 41, 42, 43, 45, 48, 49, 50, 51, 52, 55, 56, 58, 59, 61, 62, 66, 67, 68, 70, 72, 73, 76, 78, 82, 84, 90, 93, 94, 95, 96, 97}\n"
     ]
    },
    {
     "data": {
      "text/plain": [
       "0.5517241379310345"
      ]
     },
     "execution_count": 9,
     "metadata": {},
     "output_type": "execute_result"
    }
   ],
   "source": [
    "# probability that Aaron Jones rushed for 56.5 yards in general\n",
    "\n",
    "conditional_probability(jones_career, [('RushYds', 'geq', 52.5), ('Year', 'geq', 2020), ('Started', 'eq', True)])"
   ]
  },
  {
   "cell_type": "code",
   "execution_count": 10,
   "metadata": {},
   "outputs": [
    {
     "name": "stderr",
     "output_type": "stream",
     "text": [
      "2024-09-26 13:25:00,426 - INFO - Initial Condition: {40, 41, 42, 43, 44, 45, 46, 47, 48, 49, 50, 51, 52, 53, 54, 55, 56, 57, 58, 59, 60, 61, 62, 63, 64, 65, 66, 67, 68, 69, 70, 71, 72, 73, 74, 75, 76, 77, 78, 79, 80, 81, 82, 83, 84, 85, 86, 87, 88, 89, 90, 91, 92, 93, 94, 95, 96, 97}\n",
      "2024-09-26 13:25:00,430 - INFO - Condition 2: {40, 41, 42, 43, 44, 45, 46, 47, 48, 49, 50, 51, 52, 53, 54, 55, 56, 57, 58, 59, 60, 61, 62, 63, 64, 65, 66, 67, 68, 69, 70, 71, 72, 73, 74, 75, 76, 77, 78, 79, 80, 81, 82, 83, 84, 85, 86, 87, 88, 89, 90, 91, 92, 93, 94, 95, 96, 97}\n",
      "2024-09-26 13:25:00,432 - INFO - Condition 3: {73, 75, 76, 77, 47, 79, 80, 85, 88, 91, 62}\n",
      "2024-09-26 13:25:00,432 - INFO - Condition and Event: {73, 76, 62}\n"
     ]
    },
    {
     "data": {
      "text/plain": [
       "0.2727272727272727"
      ]
     },
     "execution_count": 10,
     "metadata": {},
     "output_type": "execute_result"
    }
   ],
   "source": [
    "# probability that Aaron Jones rushed for 56.5 yards in various game outcomes\n",
    "\n",
    "conditional_probability(jones_career, [('RushYds', 'geq', 52.5), ('Year', 'geq', 2020), ('Started', 'eq', True), ('Margin', 'in_range', (-10, 0))])"
   ]
  },
  {
   "cell_type": "code",
   "execution_count": 11,
   "metadata": {},
   "outputs": [
    {
     "data": {
      "text/plain": [
       "<Axes: xlabel='Margin', ylabel='RushYds'>"
      ]
     },
     "execution_count": 11,
     "metadata": {},
     "output_type": "execute_result"
    },
    {
     "data": {
      "image/png": "[encoded data removed]",
      "text/plain": [
       "<Figure size 640x480 with 1 Axes>"
      ]
     },
     "metadata": {},
     "output_type": "display_data"
    }
   ],
   "source": [
    "# plot margin versus yards\n",
    "\n",
    "sns.regplot(jones_career, x = 'Margin', y = 'RushYds', order = 2)"
   ]
  },
  {
   "cell_type": "code",
   "execution_count": 12,
   "metadata": {},
   "outputs": [
    {
     "data": {
      "text/plain": [
       "<Axes: xlabel='Time', ylabel='RushYds'>"
      ]
     },
     "execution_count": 12,
     "metadata": {},
     "output_type": "execute_result"
    },
    {
     "data": {
      "image/png": "[encoded data removed]",
      "text/plain": [
       "<Figure size 640x480 with 1 Axes>"
      ]
     },
     "metadata": {},
     "output_type": "display_data"
    }
   ],
   "source": [
    "# plot AJ's production over time:\n",
    "\n",
    "sns.regplot(jones_career, x = 'Time', y = 'RushYds', order = 2)"
   ]
  }
 ],
 "metadata": {
  "kernelspec": {
   "display_name": "env",
   "language": "python",
   "name": "python3"
  },
  "language_info": {
   "codemirror_mode": {
    "name": "ipython",
    "version": 3
   },
   "file_extension": ".py",
   "mimetype": "text/x-python",
   "name": "python",
   "nbconvert_exporter": "python",
   "pygments_lexer": "ipython3",
   "version": "3.10.1"
  }
 },
 "nbformat": 4,
 "nbformat_minor": 2
}
